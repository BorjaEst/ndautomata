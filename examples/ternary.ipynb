{
 "cells": [
  {
   "cell_type": "markdown",
   "metadata": {},
   "source": [
    "## Ternary Cellular Automata\n",
    "Example for a three-state and one dimension cellular automata.\n",
    "Every cell interacts with its current state and two adjacent neighbours.\n",
    "For this example, we use ndautomata as main library to generate the Automaton class, together with matplotlib to represent the automaton evolution."
   ]
  },
  {
   "cell_type": "code",
   "execution_count": 1,
   "metadata": {},
   "outputs": [],
   "source": [
    "import ndautomata as ca\n",
    "import matplotlib.pyplot as plt\n",
    "from ndautomata import initializers, neighbours"
   ]
  },
  {
   "cell_type": "markdown",
   "metadata": {},
   "source": [
    "Using the abstract class `ndautomata.BaseAutomaton` we generate the 1D `Automaton` class defining a regular array of 1 dimension index. Radius is set to 1 to limit neighbours to the direct contact. The number of possible states is set to 3 to obtain ternary patterns. "
   ]
  },
  {
   "cell_type": "code",
   "execution_count": 2,
   "metadata": {},
   "outputs": [],
   "source": [
    "class Automaton(ca.BaseAutomaton):\n",
    "    neighbours = neighbours.regular(ndim=1, r=1)\n",
    "    states = 3"
   ]
  },
  {
   "cell_type": "markdown",
   "metadata": {},
   "source": [
    "In this example, we will generate a Generic rule for our cellular automata evolution. To do so, as first step, it is required to generate a connections array space for a rule function with 3 arguments, one for the cell state and two each direct neighbour:\n",
    "\n",
    "$$a{_{i}^{t+1}} = \\phi \\begin{bmatrix} a{_{i-1}^{t}}, a{_{i}^{t}}, a{_{i+1}^{t}} \\end{bmatrix}$$\n",
    "\n",
    "As the space of possible rules is too large to represent as a string ($3^{27}$), we can generate a random base rule and set some of the properties."
   ]
  },
  {
   "cell_type": "code",
   "execution_count": 3,
   "metadata": {},
   "outputs": [],
   "source": [
    "connections = [Automaton.states] * Automaton.neighbours.size\n",
    "rule = initializers.random(states=Automaton.states, size=connections)"
   ]
  },
  {
   "cell_type": "markdown",
   "metadata": {},
   "source": [
    "Once the rule is set, an automata instance can be generated. To do so, we use again the `initializers` module to generate the initial conditions. In this example, we start with a a unique active state *1* located at the center of the initial conditions. All the rest of cells start with the value *0*."
   ]
  },
  {
   "cell_type": "code",
   "execution_count": 4,
   "metadata": {},
   "outputs": [],
   "source": [
    "ic = initializers.center(states=Automaton.states, size=[200])\n",
    "automaton = Automaton(ic, rule)"
   ]
  },
  {
   "cell_type": "markdown",
   "metadata": {},
   "source": [
    "Finally, with the help of `matplotlib` we can generate the rule space-time diagram. As on the elementary diagram, in this plot, each row of pixels shows the cells of the automaton at a single point in time, with time increasing downwards."
   ]
  },
  {
   "cell_type": "code",
   "execution_count": 5,
   "metadata": {},
   "outputs": [
    {
     "data": {
      "image/png": "[encoded data removed]",
      "text/plain": [
       "<Figure size 800x480 with 1 Axes>"
      ]
     },
     "metadata": {},
     "output_type": "display_data"
    }
   ],
   "source": [
    "plt.rcParams[\"image.cmap\"] = \"binary\"\n",
    "plt.matshow([next(automaton) for _ in range(120)])\n",
    "plt.show()"
   ]
  },
  {
   "cell_type": "markdown",
   "metadata": {},
   "source": [
    "Total runtime is around `0.2s` on a `Intel(R) Core(TM) i5-8365U CPU @ 1.60GHz`."
   ]
  }
 ],
 "metadata": {
  "kernelspec": {
   "display_name": "Python 3.10.4 ('num')",
   "language": "python",
   "name": "python3"
  },
  "language_info": {
   "codemirror_mode": {
    "name": "ipython",
    "version": 3
   },
   "file_extension": ".py",
   "mimetype": "text/x-python",
   "name": "python",
   "nbconvert_exporter": "python",
   "pygments_lexer": "ipython3",
   "version": "3.10.4"
  },
  "orig_nbformat": 4,
  "vscode": {
   "interpreter": {
    "hash": "0ab3db896664fafbadca4c04ef00c5dfeb8d297cf9d1cdd228cc8c7cea1bef3f"
   }
  }
 },
 "nbformat": 4,
 "nbformat_minor": 2
}
