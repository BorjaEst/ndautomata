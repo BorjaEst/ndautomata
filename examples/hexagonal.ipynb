{
 "cells": [
  {
   "cell_type": "markdown",
   "metadata": {},
   "source": [
    "## Hexagonal Cellular Automata\n",
    "\n",
    "Automata based on bidimensional grid of hexagonal cells, each of which is in\n",
    "one of two possible states. Every cell interacts only with six neighbours,\n",
    "which are the cells that are horizontally, vertically, or half diagonally\n",
    "adjacent.\n",
    "```\n",
    "                                  _________________\n",
    "         / \\ / \\ / \\             |     |     |     |\n",
    "        |0,0|0,1|0,2|            |     |-1,0 |-1,+1|\n",
    "         \\ / \\ / \\ / \\           |-----|-----|-----|\n",
    "          |1,0|1,1|1,2|          | 0,-1| i,j | 0,+1|\n",
    "           \\ / \\ / \\ / \\         |-----|-----|-----|\n",
    "            |2,0|2,1|2,2|        |+1,-1|+1,0 |     |\n",
    "             \\ / \\ / \\ /         |_____|_____|_____|\n",
    "```"
   ]
  },
  {
   "cell_type": "code",
   "execution_count": 1,
   "metadata": {},
   "outputs": [],
   "source": [
    "import ndautomata as ca\n",
    "import matplotlib.pyplot as plt\n",
    "import cupy as np\n",
    "from matplotlib.animation import FuncAnimation\n",
    "from ndautomata import initializers, neighbours"
   ]
  },
  {
   "cell_type": "markdown",
   "metadata": {},
   "source": [
    "Using the abstract class `ndautomata.BaseAutomaton` we generate the 2D `Automaton` class defining an hexagonal array of 2 dimension index. Radius is set to 1 in oder to work with neighbours in direct contact with the cell. The number of possible states is set to 2, similar to Elementary automata."
   ]
  },
  {
   "cell_type": "code",
   "execution_count": 2,
   "metadata": {},
   "outputs": [],
   "source": [
    "class Automaton(ca.BaseAutomaton):\n",
    "    neighbours = neighbours.hexagonal(ndim=2, r=1)\n",
    "    states = 2"
   ]
  },
  {
   "cell_type": "markdown",
   "metadata": {},
   "source": [
    "In this example, we will generate a Generic rule for our cellular automata evolution. To do so, as first step, it is required to generate a connections array space for a rule function with 7 arguments, one for the cell state and six for each direct neighbour:\n",
    "\n",
    "$$a{_{i,j}^{t+1}} = \\phi \\begin{bmatrix} a{_{i-1,j}^{t}}, & ... & a{_{i,j+1}^{t}} \\end{bmatrix}$$\n",
    "\n",
    "To generate the rule based on Generic terms, we can generate a base zero array and set individual values, or just call the random initializer to generate a full random rule."
   ]
  },
  {
   "cell_type": "code",
   "execution_count": 3,
   "metadata": {},
   "outputs": [],
   "source": [
    "connections = [Automaton.states] * Automaton.neighbours.size\n",
    "rule = initializers.random(states=Automaton.states, size=connections)"
   ]
  },
  {
   "cell_type": "markdown",
   "metadata": {},
   "source": [
    "Once the rule is set, an automata instance can be generated. To do so, we use again the `initializers` module to generate the initial conditions. In this example, we start with a unique active state *1* located at the center of the 2 dimension board. All the rest of cells start with the value *0*."
   ]
  },
  {
   "cell_type": "code",
   "execution_count": 4,
   "metadata": {},
   "outputs": [],
   "source": [
    "ic = initializers.center(states=Automaton.states, size=[100, 100])\n",
    "automaton = Automaton(ic, rule)"
   ]
  },
  {
   "cell_type": "markdown",
   "metadata": {},
   "source": [
    "Finally, with the help of `matplotlib` we can generate the rule space-time animation. In this animation, each point of pixels shows the cells of the automaton at a single point in time, with time increasing during the animation. Due to plotting tools limitation, the best way to represent the hex grid is by using `pcolormesh`. The mesh grid is shifted on X by half on every increasing position on the Y coordinate."
   ]
  },
  {
   "cell_type": "code",
   "execution_count": 5,
   "metadata": {},
   "outputs": [],
   "source": [
    "# Enable interactive plot\n",
    "%matplotlib widget \n",
    "plt.rcParams[\"image.cmap\"] = \"binary\"\n",
    "plt.rcParams[\"animation.html\"] = \"jshtml\""
   ]
  },
  {
   "cell_type": "code",
   "execution_count": 6,
   "metadata": {},
   "outputs": [
    {
     "data": {
      "application/vnd.jupyter.widget-view+json": {
       "model_id": "06025d723ff64b5292e5e8bb4b2e9f4e",
       "version_major": 2,
       "version_minor": 0
      },
      "image/png": "[encoded data removed]",
      "text/html": [
       "\n",
       "            <div style=\"display: inline-block;\">\n",
       "                <div class=\"jupyter-widgets widget-label\" style=\"text-align: center;\">\n",
       "                    Figure\n",
       "                </div>\n",
       "                <img src='data:image/png;base64,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' width=640.0/>\n",
       "            </div>\n",
       "        "
      ],
      "text/plain": [
       "Canvas(toolbar=Toolbar(toolitems=[('Home', 'Reset original view', 'home', 'home'), ('Back', 'Back to previous …"
      ]
     },
     "metadata": {},
     "output_type": "display_data"
    }
   ],
   "source": [
    "fig, ax = plt.subplots()\n",
    "\n",
    "x = np.arange(0.0, 100.0, 1)  # len = 100\n",
    "y = np.arange(0.0, 100.0, 1)  # len = 100\n",
    "X, Y = np.meshgrid(x, y)\n",
    "X = X - 0.5 * Y\n",
    "\n",
    "im = plt.pcolormesh(X.get(), Y.get(), automaton.configuration.get())\n",
    "animate = lambda *args: im.set_array(next(automaton).get())\n",
    "anim = FuncAnimation(fig, animate)"
   ]
  },
  {
   "attachments": {},
   "cell_type": "markdown",
   "metadata": {},
   "source": [
    "Performance time is around `2.3s` for `10000` cycles on a `NVIDIA GeForce RTX 3070`."
   ]
  }
 ],
 "metadata": {
  "kernelspec": {
   "display_name": "Python 3.10.4 ('num')",
   "language": "python",
   "name": "python3"
  },
  "language_info": {
   "codemirror_mode": {
    "name": "ipython",
    "version": 3
   },
   "file_extension": ".py",
   "mimetype": "text/x-python",
   "name": "python",
   "nbconvert_exporter": "python",
   "pygments_lexer": "ipython3",
   "version": "3.10.6"
  },
  "orig_nbformat": 4,
  "vscode": {
   "interpreter": {
    "hash": "0ab3db896664fafbadca4c04ef00c5dfeb8d297cf9d1cdd228cc8c7cea1bef3f"
   }
  }
 },
 "nbformat": 4,
 "nbformat_minor": 2
}
