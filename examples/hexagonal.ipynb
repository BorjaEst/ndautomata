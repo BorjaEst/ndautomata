{
 "cells": [
  {
   "cell_type": "markdown",
   "metadata": {},
   "source": [
    "## Hexagonal Cellular Automata\n",
    "\n",
    "Automata based on bidimensional grid of hexagonal cells, each of which is in\n",
    "one of two possible states. Every cell interacts only with six neighbours,\n",
    "which are the cells that are horizontally, vertically, or half diagonally\n",
    "adjacent.\n",
    "```\n",
    "                                  _________________\n",
    "         / \\ / \\ / \\             |     |     |     |\n",
    "        |0,0|0,1|0,2|            |     |-1,0 |-1,+1|\n",
    "         \\ / \\ / \\ / \\           |-----|-----|-----|\n",
    "          |1,0|1,1|1,2|          | 0,-1| i,j | 0,+1|\n",
    "           \\ / \\ / \\ / \\         |-----|-----|-----|\n",
    "            |2,0|2,1|2,2|        |+1,-1|+1,0 |     |\n",
    "             \\ / \\ / \\ /         |_____|_____|_____|\n",
    "```"
   ]
  },
  {
   "cell_type": "code",
   "execution_count": 1,
   "metadata": {},
   "outputs": [],
   "source": [
    "import ndautomata as ca\n",
    "import matplotlib.pyplot as plt\n",
    "import numpy as np\n",
    "from matplotlib.animation import FuncAnimation\n",
    "from ndautomata import initializers, neighbours"
   ]
  },
  {
   "cell_type": "markdown",
   "metadata": {},
   "source": [
    "Using the abstract class `ndautomata.BaseAutomaton` we generate the 2D `Automaton` class defining an hexagonal array of 2 dimension index. Radius is set to 1 in oder to work with neighbours in direct contact with the cell. The number of possible states is set to 2, similar to Elementary automata."
   ]
  },
  {
   "cell_type": "code",
   "execution_count": 2,
   "metadata": {},
   "outputs": [],
   "source": [
    "class Automaton(ca.BaseAutomaton):\n",
    "    neighbours = neighbours.hexagonal(ndim=2, r=1)\n",
    "    states = 2"
   ]
  },
  {
   "cell_type": "markdown",
   "metadata": {},
   "source": [
    "In this example, we will generate a Generic rule for our cellular automata evolution. To do so, as first step, it is required to generate a connections array space for a rule function with 7 arguments, one for the cell state and six for each direct neighbour:\n",
    "\n",
    "$$a{_{i,j}^{t+1}} = \\phi \\begin{bmatrix} a{_{i-1,j}^{t}}, & ... & a{_{i,j+1}^{t}} \\end{bmatrix}$$\n",
    "\n",
    "To generate the rule based on Generic terms, we can generate a base zero array and set individual values, or just call the random initializer to generate a full random rule."
   ]
  },
  {
   "cell_type": "code",
   "execution_count": 3,
   "metadata": {},
   "outputs": [],
   "source": [
    "connections = [Automaton.states] * Automaton.neighbours.size\n",
    "rule = initializers.random(states=Automaton.states, size=connections)"
   ]
  },
  {
   "cell_type": "markdown",
   "metadata": {},
   "source": [
    "Once the rule is set, an automata instance can be generated. To do so, we use again the `initializers` module to generate the initial conditions. In this example, we start with a unique active state *1* located at the center of the 2 dimension board. All the rest of cells start with the value *0*."
   ]
  },
  {
   "cell_type": "code",
   "execution_count": 4,
   "metadata": {},
   "outputs": [],
   "source": [
    "ic = initializers.center(states=Automaton.states, size=[100, 100])\n",
    "automaton = Automaton(ic, rule)"
   ]
  },
  {
   "cell_type": "markdown",
   "metadata": {},
   "source": [
    "Finally, with the help of `matplotlib` we can generate the rule space-time animation. In this animation, each point of pixels shows the cells of the automaton at a single point in time, with time increasing during the animation. Due to plotting tools limitation, the best way to represent the hex grid is by using `pcolormesh`. The mesh grid is shifted on X by half on every increasing position on the Y coordinate."
   ]
  },
  {
   "cell_type": "code",
   "execution_count": 5,
   "metadata": {},
   "outputs": [],
   "source": [
    "# Enable interactive plot\n",
    "%matplotlib widget "
   ]
  },
  {
   "cell_type": "code",
   "execution_count": 6,
   "metadata": {},
   "outputs": [
    {
     "data": {
      "application/vnd.jupyter.widget-view+json": {
       "model_id": "afdbe52760054a3994e1f03bd3cc8331",
       "version_major": 2,
       "version_minor": 0
      },
      "image/png": "[encoded data removed]",
      "text/html": [
       "\n",
       "            <div style=\"display: inline-block;\">\n",
       "                <div class=\"jupyter-widgets widget-label\" style=\"text-align: center;\">\n",
       "                    Figure\n",
       "                </div>\n",
       "                <img src='data:image/png;base64,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' width=432.0/>\n",
       "            </div>\n",
       "        "
      ],
      "text/plain": [
       "Canvas(toolbar=Toolbar(toolitems=[('Home', 'Reset original view', 'home', 'home'), ('Back', 'Back to previous …"
      ]
     },
     "metadata": {},
     "output_type": "display_data"
    }
   ],
   "source": [
    "plt.rcParams[\"image.cmap\"] = \"binary\"\n",
    "fig, ax = plt.subplots()\n",
    "\n",
    "x = np.arange(0.0, 100.0, 1)  # len = 100\n",
    "y = np.arange(0.0, 100.0, 1)  # len = 100\n",
    "X, Y = np.meshgrid(x, y)\n",
    "X = X - 0.5 * Y\n",
    "\n",
    "im = plt.pcolormesh(X, Y, automaton.configuration)\n",
    "animate = lambda *args: im.set_array(next(automaton))\n",
    "anim = FuncAnimation(fig, animate)\n"
   ]
  },
  {
   "cell_type": "markdown",
   "metadata": {},
   "source": [
    "Total runtime is around `2.3s` on a `Intel(R) Core(TM) i5-8365U CPU @ 1.60GHz`."
   ]
  }
 ],
 "metadata": {
  "kernelspec": {
   "display_name": "Python 3.10.4 ('num')",
   "language": "python",
   "name": "python3"
  },
  "language_info": {
   "codemirror_mode": {
    "name": "ipython",
    "version": 3
   },
   "file_extension": ".py",
   "mimetype": "text/x-python",
   "name": "python",
   "nbconvert_exporter": "python",
   "pygments_lexer": "ipython3",
   "version": "3.10.0"
  },
  "orig_nbformat": 4,
  "vscode": {
   "interpreter": {
    "hash": "0ab3db896664fafbadca4c04ef00c5dfeb8d297cf9d1cdd228cc8c7cea1bef3f"
   }
  }
 },
 "nbformat": 4,
 "nbformat_minor": 2
}
