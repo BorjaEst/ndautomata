{
 "cells": [
  {
   "cell_type": "markdown",
   "metadata": {},
   "source": [
    "## 3D Cellular Automata\n",
    "Example for a three-dimensional Moore cellular automata with two possible states.\n",
    "Every cell interacts with its current state and the twenty six neighbours, which are the cells that are horizontally, vertically or\n",
    "diagonally adjacent. For this example, we use ndautomata as main library to generate the Automaton class, together with numpy for additional operations and matplotlib to generate some analytic images."
   ]
  },
  {
   "cell_type": "code",
   "execution_count": 1,
   "metadata": {},
   "outputs": [],
   "source": [
    "import ndautomata as ca\n",
    "import matplotlib.pyplot as plt\n",
    "import numpy as np\n",
    "from ndautomata import initializers, neighbours"
   ]
  },
  {
   "cell_type": "markdown",
   "metadata": {},
   "source": [
    "Using the abstract class `ndautomata.BaseAutomaton` we generate the 3DMoore `Automaton` class defining a regular array of 3 dimensions index. Radius is set to 1 to limit the number of neighbours to the 26 closest cells located on the three main dimension axes, diagonals additionally to the own cell state."
   ]
  },
  {
   "cell_type": "code",
   "execution_count": 2,
   "metadata": {},
   "outputs": [],
   "source": [
    "class Automaton(ca.BaseAutomaton):\n",
    "    neighbours = neighbours.regular(ndim=3, r=1)\n",
    "    states = 2"
   ]
  },
  {
   "cell_type": "markdown",
   "metadata": {},
   "source": [
    "In this example, we will generate a Generic rule for our cellular automata evolution. To do so, as first step, it is required to generate a connections array space for a rule function with 27 arguments for each of the neighbours:\n",
    "\n",
    "$$a{_{i,j,k}^{t+1}} = \\phi \\begin{bmatrix} a{_{i-1,j-1,k-1}^{t}}, & ... & a{_{i+1,j+1,k+1}^{t}} \\end{bmatrix}$$\n",
    "\n",
    "As the space of possible rules is too large to represent as a string ($2^{134217728}$), we can generate a random base rule and set some of the properties. In this case we set every 3rd element in the rule combination to return '0' as next state. "
   ]
  },
  {
   "cell_type": "code",
   "execution_count": 3,
   "metadata": {},
   "outputs": [],
   "source": [
    "connections = [Automaton.states] * Automaton.neighbours.size\n",
    "rule = initializers.random(states=Automaton.states, size=connections)\n",
    "rule[1::3] = 0  # Constrain for the rule"
   ]
  },
  {
   "cell_type": "markdown",
   "metadata": {},
   "source": [
    "Once the rule is set, an automata instance can be generated. To do so, we use again the `initializers` module to generate the initial conditions. In this example, we start with a a unique active state *1* located at the center of the initial conditions. All the rest of cells start with the value *0*."
   ]
  },
  {
   "cell_type": "code",
   "execution_count": 4,
   "metadata": {},
   "outputs": [],
   "source": [
    "ic = initializers.center(states=Automaton.states, size=[40, 40, 40])\n",
    "automaton = Automaton(ic, rule)"
   ]
  },
  {
   "cell_type": "markdown",
   "metadata": {},
   "source": [
    "Finally, with the help of `matplotlib` we can generate a plot with the cellular automaton information. For the aim os simplicity, we will generate 3 plots where each represents on the horizontal axis the average of states on a perpendicular spatial region of a main coordinate, and the vertical axis a time on the evolution process. "
   ]
  },
  {
   "cell_type": "code",
   "execution_count": 5,
   "metadata": {},
   "outputs": [
    {
     "data": {
      "image/png": "[encoded data removed]",
      "text/plain": [
       "<Figure size 640x480 with 3 Axes>"
      ]
     },
     "metadata": {},
     "output_type": "display_data"
    }
   ],
   "source": [
    "plt.rcParams[\"image.cmap\"] = \"binary\"\n",
    "data = np.array([next(automaton) for _ in range(40)])\n",
    "fig, axs = plt.subplots(1, automaton.dimensions)\n",
    "for dim in range(automaton.dimensions):\n",
    "    axis = tuple(d + 1 for d in range(automaton.dimensions) if d != dim)\n",
    "    axs[dim].matshow(np.mean(data, axis=axis))\n",
    "plt.show()"
   ]
  },
  {
   "cell_type": "markdown",
   "metadata": {},
   "source": [
    "Total runtime is around `0.8s` on a `Intel(R) Core(TM) i5-8365U CPU @ 1.60GHz`."
   ]
  }
 ],
 "metadata": {
  "kernelspec": {
   "display_name": "Python 3.10.4 ('num')",
   "language": "python",
   "name": "python3"
  },
  "language_info": {
   "codemirror_mode": {
    "name": "ipython",
    "version": 3
   },
   "file_extension": ".py",
   "mimetype": "text/x-python",
   "name": "python",
   "nbconvert_exporter": "python",
   "pygments_lexer": "ipython3",
   "version": "3.10.4"
  },
  "orig_nbformat": 4,
  "vscode": {
   "interpreter": {
    "hash": "0ab3db896664fafbadca4c04ef00c5dfeb8d297cf9d1cdd228cc8c7cea1bef3f"
   }
  }
 },
 "nbformat": 4,
 "nbformat_minor": 2
}
