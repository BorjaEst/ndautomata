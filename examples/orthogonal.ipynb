{
 "cells": [
  {
   "cell_type": "markdown",
   "metadata": {},
   "source": [
    "## Orthogonal Cellular Automata\n",
    "\n",
    "Automata based on bidimensional grid of square cells, each of which is in\n",
    "one of two possible states. Every cell interacts with the neighbours,\n",
    "located on a rectangular grid for the dimensions to chose. \n",
    "\n",
    "In this example, we will generate a grid of neighbours that evolves in a\n",
    "unique vertical direction.\n",
    "```\n",
    "    _________________________________________ \n",
    "   |     |     |     |     |     |     |     |\n",
    "   |+1,-3|+1,-2|+1,-1|+1,0 |+1,+1|+1,+2| 0,+3|\n",
    "   |-----|-----|-----|-----|-----|-----|-----|\n",
    "   | 0,-3| 0,-2| 0,-1| 0,0 | 0,+1| 0,+2| 0,+3|\n",
    "   |_____|_____|_____|_____|_____|_____|_____|\n",
    "```"
   ]
  },
  {
   "cell_type": "code",
   "execution_count": 1,
   "metadata": {},
   "outputs": [],
   "source": [
    "import ndautomata as ca\n",
    "import matplotlib.pyplot as plt\n",
    "import cupy as np\n",
    "from matplotlib.animation import FuncAnimation\n",
    "from ndautomata import initializers, neighbours"
   ]
  },
  {
   "cell_type": "markdown",
   "metadata": {},
   "source": [
    "Using the abstract class `ndautomata.BaseAutomaton` we generate the 2D `Automaton` class defining a regular array of 2 dimension index. To generate the neighbours, we select an orthogonal grid of 2x7 cells. The number of possible states is set to 2, similar to Elementary automata."
   ]
  },
  {
   "cell_type": "code",
   "execution_count": 2,
   "metadata": {},
   "outputs": [],
   "source": [
    "class Automaton(ca.BaseAutomaton):\n",
    "    neighbours = neighbours.orthogonal([2, 7])\n",
    "    states = 2"
   ]
  },
  {
   "cell_type": "markdown",
   "metadata": {},
   "source": [
    "In this example, we will generate a Generic rule for our cellular automata evolution. To do so, as first step, it is required to generate a connections array space for a rule function with 14 arguments, one for the cell state and thirteen for the neighbours:\n",
    "\n",
    "$$a{_{i,j}^{t+1}} = \\phi \\begin{bmatrix} a{_{i,j-3}^{t}}, & ... & a{_{i+1,j+3}^{t}} \\end{bmatrix}$$\n",
    "\n",
    "To generate the rule based on Generic terms, we can generate a base zero array and set individual values, or just call the random initializer to generate a full random rule."
   ]
  },
  {
   "cell_type": "code",
   "execution_count": 3,
   "metadata": {},
   "outputs": [],
   "source": [
    "connections = [Automaton.states] * Automaton.neighbours.size\n",
    "rule = initializers.random(states=Automaton.states, size=connections)"
   ]
  },
  {
   "cell_type": "markdown",
   "metadata": {},
   "source": [
    "Once the rule is set, an automata instance can be generated. To do so, we use again the `initializers` module to generate the initial conditions. In this example, we start with a unique active state *1* located at the center of the 2 dimension board. All the rest of cells start with the value *0*."
   ]
  },
  {
   "cell_type": "code",
   "execution_count": 4,
   "metadata": {},
   "outputs": [],
   "source": [
    "ic = initializers.center(states=Automaton.states, size=[80, 120])\n",
    "automaton = Automaton(ic, rule)"
   ]
  },
  {
   "cell_type": "markdown",
   "metadata": {},
   "source": [
    "Finally, with the help of `matplotlib` we can generate the rule space-time animation. In this animation, each point of pixels shows the cells of the automaton at a single point in time, with time increasing during the animation."
   ]
  },
  {
   "cell_type": "code",
   "execution_count": 5,
   "metadata": {},
   "outputs": [],
   "source": [
    "# Enable interactive plot\n",
    "%matplotlib widget\n",
    "plt.rcParams[\"image.cmap\"] = \"binary\"\n",
    "plt.rcParams[\"animation.html\"] = \"jshtml\""
   ]
  },
  {
   "cell_type": "code",
   "execution_count": 6,
   "metadata": {},
   "outputs": [
    {
     "data": {
      "application/vnd.jupyter.widget-view+json": {
       "model_id": "5f00e1a91077460c9fb2982faadc5511",
       "version_major": 2,
       "version_minor": 0
      },
      "image/png": "[encoded data removed]",
      "text/html": [
       "\n",
       "            <div style=\"display: inline-block;\">\n",
       "                <div class=\"jupyter-widgets widget-label\" style=\"text-align: center;\">\n",
       "                    Figure\n",
       "                </div>\n",
       "                <img src='data:image/png;base64,iVBORw0KGgoAAAANSUhEUgAAAoAAAAHgCAYAAAA10dzkAAAAOXRFWHRTb2Z0d2FyZQBNYXRwbG90bGliIHZlcnNpb24zLjYuMywgaHR0cHM6Ly9tYXRwbG90bGliLm9yZy/P9b71AAAACXBIWXMAAA9hAAAPYQGoP6dpAAAh7klEQVR4nO3df2xd5X348Y/T4Dvh3RvYaOw4lBQKCUVZQZgQMn4EMAi2En6sAtZ0akEwlqYqg1UDLJAgRarpKmJaJ223klJ+rYIlQNtRlmHGtIYYU5IBK5CU0sSjdnyJceZrSLBDcr5/7NuruiQjBds39vN6SY8Un3t8+PiRUt491/dQFRFZAACQjEmVHgAAgLElAAEAEiMAAQASIwABABIjAAEAEiMAAQASIwABABIjAAEAEiMAAQASIwABABIjAAEAEiMAAQASIwABABIjAAEAEiMAAQASIwABABIjAAEAEiMAAQASIwABABIjAAEAEiMAAQASIwABABIjAAEAEiMAAQASIwABABIjAAEAEiMAAQASIwABABIjAAEAEiMAAQASIwABABIjAAEAEiMAAQASIwABABIjAAEAEiMAAQASIwABABIjAAEAEiMAAQASIwABABIjAAEAEiMAAQASIwABABIjAAEAEiMAAQASIwABABIjAAEAEiMAAQASIwABABIjAAEAEiMAAQASIwABABIjAAEAEiMAR8DixYtj06ZNsWPHjnj66adjzpw5lR5pv3bDDTfEM888E6VSKYrFYjz88MMxc+bMYefkcrlYtmxZ9Pb2xsDAQKxcuTKmTp1aoYnHh+uvvz6yLIuWlpbyMfu47+rr6+Pee++N3t7e2L59e7zwwgvR0NAw7JwlS5ZEd3d3bN++PR5//PE48sgjKzTt/mvSpEnx5S9/OX75y1/G9u3b4xe/+EXcdNNN7zrPXr7bqaeeGj/84Q+jq6srsiyLCy644F3nvNe+HXzwwXHfffdFf39/bNu2Le68886oqakZqx+BcSaz3v+65JJLsrfffju77LLLso9//OPZ3//932d9fX3Zhz/84YrPtr+uxx57LPvc5z6XHXPMMdknPvGJ7J//+Z+zzZs3ZwceeGD5nG9+85tZZ2dndsYZZ2THH398tnbt2mzNmjUVn31/XSeccEL2y1/+MnvuueeylpYW+/g7roMOOijbtGlT9t3vfjebM2dO9tGPfjQ7++yzsyOOOKJ8znXXXZdt27YtO//887M/+qM/yh555JHs1VdfzXK5XMXn359WU1NTtnXr1uxP//RPsxkzZmSf+tSnslKplH3xi1+0l++xzj333OzWW2/NLrzwwizLsuyCCy4Y9vq+7NuPf/zj7D//8z+zE088MTv55JOzn//859n9999f8Z/N2i9XxQcY1+vpp5/OWltby19XVVVlv/rVr7Lrr7++4rONl3XIIYdkWZZlp556ahYRWaFQyAYHB7NPfepT5XNmzZqVZVmWzZ07t+Lz7m+rpqYm27hxY9bY2Jg9+eST5QC0j/u+mpubs//4j//4P8/p7u7OvvSlL5W/LhQK2Y4dO7JLL7204vPvT+tHP/pRdueddw47tnLlyuzee++1l7/D2lMAvte+HX300VmWZVlDQ0P5nHPOOSfbtWtXNm3atIr/TNb+tbwF/AEccMAB0dDQEG1tbeVjWZZFW1tbzJs3r4KTjS9TpkyJiIi+vr6IiGhoaIjq6uph+7px48bo7Oy0r3uwfPnyePTRR+OJJ54Ydtw+7rvzzz8/nn322XjwwQejWCzG+vXr48orryy/fvjhh8e0adOG7WWpVIqOjg57+VvWrl0bjY2NcdRRR0VExCc+8Yk45ZRT4rHHHosIe/l+7cu+zZs3L7Zt2xbr1q0rn9PW1ha7d++OuXPnjvnM7N8mV3qA8eyQQw6JyZMnR7FYHHa8WCzG0UcfXaGpxpeqqqq44447Ys2aNfHiiy9GRERdXV0MDg5Gf3//sHOLxWLU1dVVYsz91qWXXhrHH3/8Hn/v1D7uuyOOOCI+//nPx9KlS+MrX/lKzJkzJ77xjW/E0NBQ3HPPPeX92tPfdXs53G233RaFQiE2bNgQu3btig996ENx4403xj/+4z9GRNjL92lf9q2uri5ef/31Ya/v2rUr+vr67C3vIgCpqOXLl8fs2bPjlFNOqfQo486hhx4aX//61+Pss8+OwcHBSo8zrk2aNCmeffbZuPHGGyMi4rnnnovZs2fHokWL4p577qnwdOPLJZdcEp/5zGdi4cKF8eKLL8Zxxx0Xd9xxR3R3d9tL2I94C/gD6O3tjXfeeSdqa2uHHa+trY2enp4KTTV+tLa2xnnnnRdnnHFGdHV1lY/39PRELpcrvzX8a/Z1uIaGhqitrY3169fHzp07Y+fOnXH66afH1VdfHTt37oxisWgf99GWLVvipZdeGnbs5ZdfjsMOOywiorxf/q6/t6997Wtx2223xQMPPBA/+9nP4r777ouWlpZoamqKCHv5fu3LvvX09LzrU/4f+tCH4g/+4A/sLe8iAD+AnTt3xrp166KxsbF8rKqqKhobG6O9vb2Ck+3/Wltb46KLLoozzzwzNm/ePOy1devWxdDQ0LB9nTlzZsyYMcO+/oYnnngiZs+eHccdd1x5/fSnP437778/jjvuuHj22Wft4z566qmnYtasWcOOzZw5Mzo7OyMiYtOmTbFly5Zhe5nP52Pu3Ln28rcceOCBsXv37mHHdu3aFZMm/e+/buzl+7Mv+9be3h4HH3xwHH/88eVzzjzzzJg0aVJ0dHSM+czs/yr+SZTxvC655JJsx44d2Wc/+9ns6KOPzr797W9nfX192dSpUys+2/66li9fnm3bti077bTTstra2vL6vd/7vfI53/zmN7PNmzdnp59+enb88cdnTz31VPbUU09VfPb9ff3mp4Dt476vE044IRsaGsqampqyj33sY9mnP/3p7M0338wWLlxYPue6667L+vr6sgULFmSzZ8/OHn74YY8u2cO66667stdee638GJgLL7wwe/3117PbbrvNXr7HqqmpyY499tjs2GOPzbIsy6655prs2GOPzT7ykY/s8779+Mc/ztatW5fNmTMn++M//uNs48aNHgNj7W1VfIBxv77whS9kmzdvzt5+++3s6aefzk488cSKz7Q/r7353Oc+Vz4nl8tly5Yty954443szTffzFatWpXV1tZWfPb9ff12ANrHfV+f/OQnsxdeeCHbsWNH9tJLL2VXXnnlu85ZsmRJtmXLlmzHjh3Z448/nh111FEVn3t/W7//+7+ftbS0ZJs3b862b9+e/eIXv8huvfXW7IADDrCX77Hmz5+/x/9tvOuuu/Z53w4++ODs/vvvz0qlUvY///M/2YoVK7KampqK/2zW/req/v8fAABIhN8BBABIjAAEAEiMAAQASIwABABIjAAEAEiMAAQASIwABABIjAAcAdXV1XHzzTdHdXV1pUcZ9+zlyLCPI8dejhx7OTLsIyPBg6BHQD6fj1KpFIVCIQYGBio9zrhmL0eGfRw59nLk2MuRYR8ZCe4AAgAkJvkAXLx4cWzatCl27NgRTz/9dMyZM6fSIwEAjKrJlR6gki655JJYunRpLFq0KDo6OuKaa66J1atXx6xZs2Lr1q37dI36+vryn/P5/GiNmoxf76G9/GDs48ixlyPHXo4M+zgy8vl8dHd3V3qMikn6dwCffvrp+OlPfxpf/OIXIyKiqqoqXnvttWhtbY2vfvWr7/n99fX10dXVNdpjAgCjYPr06clGYLJvAR9wwAHR0NAQbW1t5WNZlkVbW1vMmzdvj99TXV0d+Xy+vACA8SvlD9EkG4CHHHJITJ48OYrF4rDjxWIx6urq9vg9TU1NUSqVysvdPwBgPEo2AN+P5ubmKBQK5TV9+vRKjwQA8DtL9kMgvb298c4770Rtbe2w47W1tdHT07PH7xkaGoqhoaGxGA8AYNQkewdw586dsW7dumhsbCwfq6qqisbGxmhvb6/gZAAAoyvZO4AREUuXLo277747nn322XjmmWfimmuuiZqamrjrrrsqPRoAwKhJOgAffPDB+PCHPxxf/vKXo66uLp577rk499xz4/XXX6/0aAAAoybp5wB+UL/+7zECAONPyv895WR/BxAAIFUCEAAgMQIQACAxAhAAIDECEAAgMQIQACAxAhAAIDECEAAgMQIQACAxAhAAIDECEAAgMQIQACAxAhAAIDECEAAgMQIQACAxAhAAIDECEAAgMQIQACAxAhAAIDECEAAgMQIQACAxAhAAIDECEAAgMQIQACAxAhAAIDECEAAgMQIQACAxAhAAIDECEAAgMQIQACAxEzYATz311PjhD38YXV1dkWVZXHDBBe86Z8mSJdHd3R3bt2+Pxx9/PI488sgKTAoAMLYmbADW1NTE888/H1/4whf2+Pp1110XV199dSxatCjmzp0bb731VqxevTpyudwYTwoAMLaqIiKr9BCjLcuyuPDCC+MHP/hB+Vh3d3fcfvvtcfvtt0dERKFQiGKxGJdddlk88MAD+3TdfD4fpVJpVGYGAEZXoVCIgYGBSo9RERP2DuD/5fDDD49p06ZFW1tb+VipVIqOjo6YN2/eXr+vuro68vn8sAUAMN4kGYB1dXUREVEsFocdLxaL5df2pKmpKUqlUnl1dXWN6pwAAKMhyQB8v5qbm6NQKJTX9OnTKz0SAMDvLMkA7OnpiYiI2traYcdra2vLr+3J0NBQDAwMDFsAAONNkgG4adOm2LJlSzQ2NpaP5fP5mDt3brS3t1dwMgCA0Te50gOMlpqammHP9Tv88MPj2GOPjb6+vnjttdfijjvuiJtuuileeeWV2LRpU9x6663R3d0djzzySOWGBgAYAxM2AE844YT493//9/LXLS0tERHxve99Ly6//PL4u7/7u6ipqYl/+Id/iIMOOijWrFkT5557bgwODlZoYgCAsZHEcwBHi+cAAsD45TmAAAAkQwACACRGAAIAJEYAAgAkRgACACRGAAIAJEYAAgAkRgACACRGAAIAJEYAAgAkRgACACRGAAIAJEYAAgAkRgACACRGAAIAJEYAAgAkRgACACRGAAIAJEYAAgAkRgACACRGAAIAJEYAAgAkRgACACRGAAIAJEYAAgAkRgACACRGAAIAJEYAAgAkRgACACRGAAIAJGbCBuANN9wQzzzzTJRKpSgWi/Hwww/HzJkzh52Ty+Vi2bJl0dvbGwMDA7Fy5cqYOnVqhSYGABgbEzYA58+fH8uXL4+TTjopzj777DjggAPiX//1X+PAAw8sn9PS0hILFiyIiy++OObPnx/19fXx0EMPVXBqAIDRVxURWaWHGAuHHHJIbN26NU477bT4yU9+EoVCIbZu3RoLFy6MVatWRUTErFmzYsOGDXHSSSdFR0fHe14zn89HqVQa7dEBgFFQKBRiYGCg0mNUxIS9A/jbpkyZEhERfX19ERHR0NAQ1dXV0dbWVj5n48aN0dnZGfPmzavIjAAAY2FypQcYC1VVVXHHHXfEmjVr4sUXX4yIiLq6uhgcHIz+/v5h5xaLxairq9vjdaqrqyOXy5W/zufzozc0AMAoSeIO4PLly2P27Nnx53/+5x/oOk1NTVEqlcqrq6trhCYEABg7Ez4AW1tb47zzzoszzjhjWLD19PRELpcrvzX8a7W1tdHT07PHazU3N0ehUCiv6dOnj+rsAACjYUIHYGtra1x00UVx5plnxubNm4e9tm7duhgaGorGxsbysZkzZ8aMGTOivb19j9cbGhqKgYGBYQsAYLyZsL8DuHz58li4cGFccMEFMTAwELW1tRER0d/fH2+//XaUSqVYsWJFLF26NPr6+qJUKkVra2usXbt2nz4BDAAwXk3Yx8Bk2Z5/rMsuuyzuvvvuiPjfB0Hffvvt8elPfzpyuVysXr06Fi9eHMVicZ/+GR4DAwDjV8qPgZmwATgWBCAAjF8pB+CE/h1AAADeTQACACRGAAIAJEYAAgAkRgACACRGAAIAJEYAAgAkRgACACRGAAIAJEYAAgAkRgACACRGAAIAJEYAAgAkRgACACRGAAIAJEYAAgAkRgACACRGAAIAJEYAAgAkRgACACRGAAIAJEYAAgAkRgACACRGAAIAJEYAAgAkRgACACRGAAIAJEYAAgAkRgACACRGAAIAJEYAAgAkZsIG4KJFi+L555+P/v7+6O/vj7Vr18a5555bfj2Xy8WyZcuit7c3BgYGYuXKlTF16tQKTgwAMDYmbAD+6le/ihtuuCEaGhrihBNOiH/7t3+LH/zgB3HMMcdERERLS0ssWLAgLr744pg/f37U19fHQw89VOGpAQBGX1VEZJUeYqy88cYb8bd/+7excuXK2Lp1ayxcuDBWrVoVERGzZs2KDRs2xEknnRQdHR37dL18Ph+lUmk0RwYARkmhUIiBgYFKj1ERE/YO4G+aNGlSXHrppVFTUxPt7e3R0NAQ1dXV0dbWVj5n48aN0dnZGfPmzdvrdaqrqyOfzw9bAADjzYQOwNmzZ8fAwEAMDg7Gt7/97bjooovi5Zdfjrq6uhgcHIz+/v5h5xeLxairq9vr9ZqamqJUKpVXV1fXaP8IAAAjbkIH4MaNG+O4446LuXPnxre+9a24++674+Mf//j7vl5zc3MUCoXymj59+ghOCwAwNiZXeoDRtHPnznj11VcjImL9+vUxZ86c+Ou//ut44IEHIpfLxZQpU4bdBaytrY2enp69Xm9oaCiGhoZGfW4AgNE0oe8A/rZJkyZFLpeLdevWxdDQUDQ2NpZfmzlzZsyYMSPa29srOCEAwOibsHcAv/KVr8Rjjz0W//3f/x35fD4WLlwYp59+epxzzjlRKpVixYoVsXTp0ujr64tSqRStra2xdu3aff4EMADAeDVhA3Dq1Klxzz33xLRp06K/vz9eeOGFOOecc8qf/L322mtj9+7dsWrVqsjlcrF69epYvHhxhacGABh9ST0HcKR5DiAAjF+eAwgAQDIEIABAYgQgAEBiBCAAQGIEIABAYgQgAEBiBCAAQGIEIABAYgQgAEBiBCAAQGIEIABAYgQgAEBiBCAAQGIEIABAYgQgAEBiBCAAQGIEIABAYgQgAEBiBCAAQGIEIABAYgQgAEBiBCAAQGIEIABAYgQgAEBiBCAAQGIEIABAYgQgAEBiBCAAQGIEIABAYgQgAEBikgjA66+/PrIsi5aWlvKxXC4Xy5Yti97e3hgYGIiVK1fG1KlTKzglAMDYmPABeMIJJ8Rf/dVfxfPPPz/seEtLSyxYsCAuvvjimD9/ftTX18dDDz1UoSkBAMbOhA7AmpqauP/+++Mv//IvY9u2beXjhUIhrrjiivibv/mbePLJJ2P9+vVx+eWXx8knnxxz586t4MTA/qSqqmrYApgoJnQALl++PB599NF44oknhh1vaGiI6urqaGtrKx/buHFjdHZ2xrx58/Z6verq6sjn88MWAMB4M7nSA4yWSy+9NI4//viYM2fOu16rq6uLwcHB6O/vH3a8WCxGXV3dXq/Z1NQUt9xyy0iPCgAwpibkHcBDDz00vv71r8dnPvOZGBwcHLHrNjc3R6FQKK/p06eP2LUBAMbKhAzAhoaGqK2tjfXr18fOnTtj586dcfrpp8fVV18dO3fujGKxGLlcLqZMmTLs+2pra6Onp2ev1x0aGoqBgYFhCwBgvJmQbwE/8cQTMXv27GHH7rrrrtiwYUN89atfjddeey2GhoaisbGx/MnfmTNnxowZM6K9vb0SIwP7oSzLKj0CwKiYkAH45ptvxosvvjjs2FtvvRVvvPFG+fiKFSti6dKl0dfXF6VSKVpbW2Pt2rXR0dFRiZEBAMbMhAzAfXHttdfG7t27Y9WqVZHL5WL16tWxePHiSo8FADDqqiLCexzvUz6fj1KpVOkxAID3oVAoJPv7/BPyQyAAAOydAAQASIwABABIjAAEAEiMAAQASIwABABIjAAEAEiMAAQASIwABABIjAAEAEiMAAQASIwABABIjAAEAEiMAAQASIwABABIjAAEAEiMAAQASIwABABIjAAEAEiMAAQASIwABABIjAAEAEiMAAQASIwABABIjAAEAEiMAAQASIwABABIjAAEAEiMAAQASIwABABIzIQNwJtvvjmyLBu2Xn755fLruVwuli1bFr29vTEwMBArV66MqVOnVnBiAICxMWEDMCLiZz/7WdTV1ZXXKaecUn6tpaUlFixYEBdffHHMnz8/6uvr46GHHqrgtAAAY2NypQcYTe+8804Ui8V3HS8UCnHFFVfEwoUL48knn4yIiMsvvzw2bNgQc+fOjY6OjrEeFQBgzEzoO4BHHXVUdHV1xauvvhr33XdffOQjH4mIiIaGhqiuro62trbyuRs3bozOzs6YN29epcYFABgTE/YOYEdHR1x22WWxcePGmDZtWtx8883xk5/8JGbPnh11dXUxODgY/f39w76nWCxGXV3dXq9ZXV0duVyu/HU+nx+1+QEARsuEDcB/+Zd/Kf/5v/7rv6KjoyM6OzvjkksuiR07dryvazY1NcUtt9wyQhMCAFTGhH4L+Df19/fHz3/+8zjyyCOjp6cncrlcTJkyZdg5tbW10dPTs9drNDc3R6FQKK/p06eP9tgAACMumQCsqamJj33sY7Fly5ZYt25dDA0NRWNjY/n1mTNnxowZM6K9vX2v1xgaGoqBgYFhCwBgvJmwbwF/7Wtfix/96EfR2dkZ9fX1sWTJkti1a1d8//vfj1KpFCtWrIilS5dGX19flEqlaG1tjbVr1/oEMAAw4U3YADz00EPj+9//fvzhH/5hbN26NdasWRMnnXRS9Pb2RkTEtddeG7t3745Vq1ZFLpeL1atXx+LFiys8NQDA6KuKiKzSQ4xX+Xw+SqVSpccAAN6HQqGQ7K9zJfM7gAAA/C8BCACQGAEIAJAYAQgAkBgBCACQGAEIAJAYAQgAkBgBCACQGAEIAJAYAQgAkBgBCACQGAEIAJAYAQgAkBgBCACQGAEIAJAYAQgAkBgBCACQGAEIAJAYAQgAkBgBCACQGAEIAJAYAQgAkBgBCACQGAEIAJAYAQgAkBgBCACQGAEIAJAYAQgAkBgBCACQGAEIAJAYAQgAkJgJHYD19fVx7733Rm9vb2zfvj1eeOGFaGhoGHbOkiVLoru7O7Zv3x6PP/54HHnkkRWaFgBgbEzYADzooIPiqaeeip07d8af/MmfxDHHHBNf+tKXYtu2beVzrrvuurj66qtj0aJFMXfu3Hjrrbdi9erVkcvlKjg5AMDoqoqIrNJDjIbm5uY4+eST47TTTtvrOd3d3XH77bfH7bffHhERhUIhisViXHbZZfHAAw+85z8jn89HqVQasZkBgLFTKBRiYGCg0mNUxIS9A3j++efHs88+Gw8++GAUi8VYv359XHnlleXXDz/88Jg2bVq0tbWVj5VKpejo6Ih58+bt8ZrV1dWRz+eHLQCA8WbCBuARRxwRn//85+OVV16Jc845J771rW/FN77xjfjsZz8bERF1dXUREVEsFod9X7FYLL/225qamqJUKpVXV1fX6P4QAACjYMIG4KRJk2L9+vVx4403xnPPPRff+c534jvf+U4sWrTofV+zubk5CoVCeU2fPn0EJwYAGBsTNgC3bNkSL7300rBjL7/8chx22GEREdHT0xMREbW1tcPOqa2tLb/224aGhmJgYGDYAgAYbyZsAD711FMxa9asYcdmzpwZnZ2dERGxadOm2LJlSzQ2NpZfz+fzMXfu3Ghvbx/TWQEAxtLkSg8wWlpaWmLt2rXR1NQUDz74YJx44olx1VVXxVVXXVU+54477oibbropXnnlldi0aVPceuut0d3dHY888kjlBgcAGGUT9jEwERGf/OQno7m5OY466qjYtGlTLF26NO68885h5yxZsiSuuuqqOOigg2LNmjWxePHieOWVV/bp+h4DAwDjV8qPgZnQATjaBCAAjF8pB+CE/R1AAAD2TAACACRGAAIAJEYAAgAkRgACACRGAAIAJEYAAgAkRgACACRGAAIAJEYAAgAkRgACACRGAAIAJEYAAgAkRgACACRGAAIAJEYAAgAkRgACACRGAAIAJEYAAgAkRgACACRGAAIAJEYAAgAkRgACACRGAAIAJEYAAgAkRgACACRGAAIAJEYAAgAkRgACACRGAAIAJGbCBuCmTZsiy7J3rWXLlkVERC6Xi2XLlkVvb28MDAzEypUrY+rUqRWeGgBg9E3YAJwzZ07U1dWV11lnnRUREf/0T/8UEREtLS2xYMGCuPjii2P+/PlRX18fDz30UCVHBgAYE1URkVV6iLHQ0tIS5513Xhx11FFRKBRi69atsXDhwli1alVERMyaNSs2bNgQJ510UnR0dOzTNfP5fJRKpdEcGwAYJYVCIQYGBio9RkVM2DuAv+mAAw6Iv/iLv4jvfve7ERHR0NAQ1dXV0dbWVj5n48aN0dnZGfPmzdvrdaqrqyOfzw9bAADjTRIBeOGFF8ZBBx0U3/ve9yIioq6uLgYHB6O/v3/YecViMerq6vZ6naampiiVSuXV1dU1mmMDAIyKJALwiiuuiMceeyy2bNnyga7T3NwchUKhvKZPnz5CEwIAjJ3JlR5gtB122GFx1llnxZ/92Z+Vj/X09EQul4spU6YMuwtYW1sbPT09e73W0NBQDA0Njeq8AACjbcLfAbz88svj9ddfj0cffbR8bN26dTE0NBSNjY3lYzNnzowZM2ZEe3t7JcYEABgzE/oOYFVVVVx++eVx9913x65du8rHS6VSrFixIpYuXRp9fX1RKpWitbU11q5du8+fAAYAGK8mdACeddZZMWPGjPKnf3/TtddeG7t3745Vq1ZFLpeL1atXx+LFiyswJQDA2ErmOYCjwXMAAWD88hxAAACSIQABABIjAAEAEiMAAQASIwABABIjAAEAEiMAAQASIwABABIjAAEAEiMAAQASIwABABIjAAEAEiMAAQASIwABABIjAAEAEiMAAQASIwABABIjAAEAEiMAAQASIwABABIjAAEAEiMAAQASIwABABIjAAEAEiMAAQASIwABABIjAAEAEiMAAQASIwABABIjAAEAEiMAAQASIwABABIjAAEAEiMAP4B8Pl/pEQCA9ynlf49XRURW6SHGs/r6+oiI6OrqiunTp8fAwECFJxrf8vm8vRwB9nHk2MuRYy9Hhn0cGfl8Prq7uys9RsVMrvQA4113d3f5/0EMDAz4yzhC7OXIsI8jx16OHHs5MuzjB5P63nkLGAAgMQIQACAxAnAEDA4Oxi233BKDg4OVHmXcs5cjwz6OHHs5cuzlyLCPjAQfAgEASIw7gAAAiRGAAACJEYAAAIkRgAAAiRGAAACJEYAAAIkRgAAAiRGAAACJEYAAAIkRgAAAiRGAAACJEYAAAIkRgAAAiRGAAACJEYAAAIkRgAAAiRGAAACJEYAAAIkRgAAAiRGAAACJEYAAAIkRgAAAiRGAAACJEYAAAIkRgAAAiRGAAACJEYAAAIkRgAAAiRGAAACJEYAAAIkRgAAAiRGAAACJEYAAAIkRgAAAiRGAAACJEYAAAIkRgAAAiRGAAACJEYAAAIkRgAAAiRGAAACJEYAAAIkRgAAAiRGAAACJEYAAAIkRgAAAiRGAAACJEYAAAIkRgAAAiRGAAACJEYAAAIkRgAAAiRGAAACJEYAAAIkRgAAAiRGAAACJEYAAAIkRgAAAiRGAAACJEYAAAIkRgAAAiRGAAACJEYAAAIkRgAAAiRGAAACJ+X+3SDhkHgb2AgAAAABJRU5ErkJggg==' width=640.0/>\n",
       "            </div>\n",
       "        "
      ],
      "text/plain": [
       "Canvas(toolbar=Toolbar(toolitems=[('Home', 'Reset original view', 'home', 'home'), ('Back', 'Back to previous …"
      ]
     },
     "metadata": {},
     "output_type": "display_data"
    }
   ],
   "source": [
    "fig, ax = plt.subplots()\n",
    "im = plt.matshow(automaton.configuration.get(), fignum=0)\n",
    "animate = lambda *args: im.set_data(next(automaton).get())\n",
    "anim = FuncAnimation(fig, animate)"
   ]
  },
  {
   "attachments": {},
   "cell_type": "markdown",
   "metadata": {},
   "source": [
    "Performance time is around `2.4s` for `10000` cycles on a `NVIDIA GeForce RTX 3070`."
   ]
  }
 ],
 "metadata": {
  "kernelspec": {
   "display_name": "Python 3.10.4 ('num')",
   "language": "python",
   "name": "python3"
  },
  "language_info": {
   "codemirror_mode": {
    "name": "ipython",
    "version": 3
   },
   "file_extension": ".py",
   "mimetype": "text/x-python",
   "name": "python",
   "nbconvert_exporter": "python",
   "pygments_lexer": "ipython3",
   "version": "3.10.6"
  },
  "orig_nbformat": 4,
  "vscode": {
   "interpreter": {
    "hash": "0ab3db896664fafbadca4c04ef00c5dfeb8d297cf9d1cdd228cc8c7cea1bef3f"
   }
  }
 },
 "nbformat": 4,
 "nbformat_minor": 2
}
