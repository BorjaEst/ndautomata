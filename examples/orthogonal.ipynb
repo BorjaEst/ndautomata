{
 "cells": [
  {
   "cell_type": "markdown",
   "metadata": {},
   "source": [
    "## Orthogonal Cellular Automata\n",
    "\n",
    "Automata based on bidimensional grid of square cells, each of which is in\n",
    "one of two possible states. Every cell interacts with the neighbours,\n",
    "located on a rectangular grid for the dimensions to chose. \n",
    "\n",
    "In this example, we will generate a grid of neighbours that evolves in a\n",
    "unique vertical direction.\n",
    "```\n",
    "    _________________________________________ \n",
    "   |     |     |     |     |     |     |     |\n",
    "   |+1,-3|+1,-2|+1,-1|+1,0 |+1,+1|+1,+2| 0,+3|\n",
    "   |-----|-----|-----|-----|-----|-----|-----|\n",
    "   | 0,-3| 0,-2| 0,-1| 0,0 | 0,+1| 0,+2| 0,+3|\n",
    "   |_____|_____|_____|_____|_____|_____|_____|\n",
    "```"
   ]
  },
  {
   "cell_type": "code",
   "execution_count": 1,
   "metadata": {},
   "outputs": [],
   "source": [
    "import ndautomata as ca\n",
    "import matplotlib.pyplot as plt\n",
    "import numpy as np\n",
    "from matplotlib.animation import FuncAnimation\n",
    "from ndautomata import initializers, neighbours"
   ]
  },
  {
   "cell_type": "markdown",
   "metadata": {},
   "source": [
    "Using the abstract class `ndautomata.BaseAutomaton` we generate the 2D `Automaton` class defining a regular array of 2 dimension index. To generate the neighbours, we select an orthogonal grid of 2x7 cells. The number of possible states is set to 2, similar to Elementary automata."
   ]
  },
  {
   "cell_type": "code",
   "execution_count": 2,
   "metadata": {},
   "outputs": [],
   "source": [
    "class Automaton(ca.BaseAutomaton):\n",
    "    neighbours = neighbours.orthogonal([2, 7])\n",
    "    states = 2"
   ]
  },
  {
   "cell_type": "markdown",
   "metadata": {},
   "source": [
    "In this example, we will generate a Generic rule for our cellular automata evolution. To do so, as first step, it is required to generate a connections array space for a rule function with 14 arguments, one for the cell state and thirteen for the neighbours:\n",
    "\n",
    "$$a{_{i,j}^{t+1}} = \\phi \\begin{bmatrix} a{_{i,j-3}^{t}}, & ... & a{_{i+1,j+3}^{t}} \\end{bmatrix}$$\n",
    "\n",
    "To generate the rule based on Generic terms, we can generate a base zero array and set individual values, or just call the random initializer to generate a full random rule."
   ]
  },
  {
   "cell_type": "code",
   "execution_count": 3,
   "metadata": {},
   "outputs": [],
   "source": [
    "connections = [Automaton.states] * Automaton.neighbours.size\n",
    "rule = initializers.random(states=Automaton.states, size=connections)"
   ]
  },
  {
   "cell_type": "markdown",
   "metadata": {},
   "source": [
    "Once the rule is set, an automata instance can be generated. To do so, we use again the `initializers` module to generate the initial conditions. In this example, we start with a unique active state *1* located at the center of the 2 dimension board. All the rest of cells start with the value *0*."
   ]
  },
  {
   "cell_type": "code",
   "execution_count": 4,
   "metadata": {},
   "outputs": [],
   "source": [
    "ic = initializers.center(states=Automaton.states, size=[80, 120])\n",
    "automaton = Automaton(ic, rule)"
   ]
  },
  {
   "cell_type": "markdown",
   "metadata": {},
   "source": [
    "Finally, with the help of `matplotlib` we can generate the rule space-time animation. In this animation, each point of pixels shows the cells of the automaton at a single point in time, with time increasing during the animation."
   ]
  },
  {
   "cell_type": "code",
   "execution_count": 5,
   "metadata": {},
   "outputs": [],
   "source": [
    "# Enable interactive plot\n",
    "%matplotlib widget"
   ]
  },
  {
   "cell_type": "code",
   "execution_count": 6,
   "metadata": {},
   "outputs": [
    {
     "data": {
      "application/vnd.jupyter.widget-view+json": {
       "model_id": "20cfd92aba774dc98b0698b38a9da091",
       "version_major": 2,
       "version_minor": 0
      },
      "image/png": "[encoded data removed]",
      "text/html": [
       "\n",
       "            <div style=\"display: inline-block;\">\n",
       "                <div class=\"jupyter-widgets widget-label\" style=\"text-align: center;\">\n",
       "                    Figure\n",
       "                </div>\n",
       "                <img src='data:image/png;base64,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' width=432.0/>\n",
       "            </div>\n",
       "        "
      ],
      "text/plain": [
       "Canvas(toolbar=Toolbar(toolitems=[('Home', 'Reset original view', 'home', 'home'), ('Back', 'Back to previous …"
      ]
     },
     "metadata": {},
     "output_type": "display_data"
    }
   ],
   "source": [
    "plt.rcParams[\"image.cmap\"] = \"binary\"\n",
    "fig, ax = plt.subplots()\n",
    "im = plt.matshow(automaton.configuration, fignum=0)\n",
    "animate = lambda *args: im.set_data(next(automaton))\n",
    "anim = FuncAnimation(fig, animate)"
   ]
  },
  {
   "cell_type": "markdown",
   "metadata": {},
   "source": [
    "Total runtime is around `1.6s` on a `Intel(R) Core(TM) i5-8365U CPU @ 1.60GHz`."
   ]
  }
 ],
 "metadata": {
  "kernelspec": {
   "display_name": "Python 3.10.4 ('num')",
   "language": "python",
   "name": "python3"
  },
  "language_info": {
   "codemirror_mode": {
    "name": "ipython",
    "version": 3
   },
   "file_extension": ".py",
   "mimetype": "text/x-python",
   "name": "python",
   "nbconvert_exporter": "python",
   "pygments_lexer": "ipython3",
   "version": "3.10.0"
  },
  "orig_nbformat": 4,
  "vscode": {
   "interpreter": {
    "hash": "0ab3db896664fafbadca4c04ef00c5dfeb8d297cf9d1cdd228cc8c7cea1bef3f"
   }
  }
 },
 "nbformat": 4,
 "nbformat_minor": 2
}
